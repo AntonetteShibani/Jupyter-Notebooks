{
 "cells": [
  {
   "cell_type": "markdown",
   "metadata": {},
   "source": [
    "## LAK 2018 Workshop: Turning the TAP on Writing Analytics\n",
    "\n",
    "#### Organisers: Antonette Shibani, Sophie Abel, Andrew Gibson & Simon Knight\n",
    "\n",
    "### Workshop Objectives\n",
    "\n",
    "This workshop aims to build writing analytics capacity through developing writing analytics literacy both at this event and beyond. Workshop activities will have two foci: the technical, and the social, both targeted at provision of feedback that supports student writing. The workshop will engage participants with the Text Analytics Pipeline (TAP), and the mapping of textual features output by TAP to rules that can be used to provide feedback to students.\n",
    "\n",
    "The workshop will take a participatory approach, blending workshop, tutorial, and hackathon to consider the potential of text analytics tools for supporting writing, and how through use of openly available tools and a data carpentry approach, novices to text analytics – including educators, learning technologists, and others – can be inducted into its potential. Our focus today will be on a writing task context where text analytics can help provide automated feedback on students' writing. The entire session will be hands-on, interacting with a text analytics system via this Jupyter notebook. \n",
    "\n",
    "---\n",
    "\n",
    "### Technical Setup\n",
    "\n",
    "The workshop will run using this Jupyter notebook. The [Jupyter Notebook](http://jupyter.org/) is an open-source web application that allows you to create and share documents that contain live code, equations, visualizations and narrative text. It can support many languages and the current notebook runs in Python. You will all work with your own notebooks (using the login IDs provided by us), so you can hack and play around with code and data. The notebook contain different segments for code, and text. The current segment is a Markdown in which we are providing a narrative text. We will have code segments where we will execute Python code to do some text analysis using TAP.  \n",
    "\n",
    "---\n",
    "\n",
    "\n",
    "### The Writing Analytics Process\n",
    "\n",
    "Using some basic writing analytics, *this notebook demonstrates the process through which pedagogy and analytics come together* in order to provide formative feedback to students on their writing.\n",
    "\n",
    "The key elements of the process are:\n",
    "\n",
    "- A clearly defined learning task\n",
    "- An understanding of the students response to the task (the writing)\n",
    "- One or more hypotheses on how aspects of the learning task may be related to computationally identifiable features in the student writing\n",
    "\n",
    "Throughout the process, the aim is to balance what is possible with the technology (i.e. Natural Language Processing - NLP) with what is valuable in terms of student learning. This is illustrated in the following diagram:\n",
    "\n",
    "<img src=\"WAlayers.png\" style=\"width: 60%;\"/>\n",
    "\n",
    "\n"
   ]
  },
  {
   "cell_type": "markdown",
   "metadata": {},
   "source": [
    "---\n",
    "\n",
    "### Writing Task Definition\n",
    "\n",
    "**Aims:** This assessment aims to develop your skills in building an argument and providing evidence to support your claims.\n",
    "\n",
    "**Task:** You will write an argumentative essay on the ethical issues arising from our treatment of animals. You will consider what rights animals should be granted and what ethical implications arise between differentiating people from animals. Your discussion should include philosophical thinking on animal ethics.\n",
    "\n",
    "In this assignment, you will: \n",
    "*\tIdentify an ethical issue \n",
    "*\tLocate 4 recent articles relevant to the issue of a sufficiently high quality to support an academic discussion \n",
    "* Link your discussion to 2 philosophers from this list: Tom Regan, Immanuel Kant, René Descartes, Thomas Aquinas, Aristotle, Peter Carruthers, Joel Feinberg, Raymond Frey, Jeremy Bentham, Peter Singer\n",
    "\n",
    "\n",
    "**Assessment:** The criteria on which your essay will be assessed is:\n",
    "\n",
    "|             Assessment Criteria            |\n",
    "| -------------        | ------------------ |\n",
    "| **Structure**        | *Clear introduction (Background, Thesis statement, discussion topics)* |\n",
    "|                      | *Selection of appropriate texts* |\n",
    "|                      | *Clear synthesis of main points* |\n",
    "|                      | *Organization of content supports argument* |\n",
    "|                      | *Suitable conclusion* |\n",
    "|**Written Expression**| *Academic writing style (third person)*  |\n",
    "|                      | *Correct English grammar, spelling and punctuation* |\n",
    "|                      | *Limit of 350 words* |\n",
    "| **Referencing**      | *Correct Harvard citation in text*     |\n",
    "|                      | *Correct Harvard reference list* |\n"
   ]
  },
  {
   "cell_type": "markdown",
   "metadata": {},
   "source": [
    "---\n",
    "\n",
    "### Student Response to Task\n",
    "\n",
    "For the above writing task, consider that a student submits an essay to receive formative feedback. We start the analytics process by loading the student writing ready for analysis.\n",
    "\n",
    "Disclaimer: The text is sourced from USE = Uppsala Student English corpus, compiled by Margareta Westergren Axelsson and Ylva Berglund, the Department of English, Uppsala University, 1999-2001, and modified for our own use. Text ID: 0100.a2\n"
   ]
  },
  {
   "cell_type": "code",
   "execution_count": 6,
   "metadata": {},
   "outputs": [
    {
     "name": "stdout",
     "output_type": "stream",
     "text": [
      "Today most of us accept science. Science of today, especially Darwins Evolutionary Theory teaches us that the human race has developed from animals and that humanbeings basically are animals among other animals. Eventhough we do agree with this aspect of science we tend to consider man as the almighty, powerful, crown of creation with a natural right to treat animals as we please and use them for our own purposes as food, tools and experiment instruments, and I belive this is wrong and in this essay I will explain why we morally have no right to exploit animals. I am also going to show how meaningless many of the experiments made on animals are.\n",
      "To begin with I would like to say that the line we draw today in order to distinguish ourselves from animals is strictly arbitrary, illogical and selfish and there isn't a quality and that includes all humanity that empowers us a narural position as top of the food chain and superiour to animals. Most humanbeings have unique capacities though, such as language and higher mental abilities than animals but it's important to emphasize that these abilities don't include all humanity, for example they don't include people with an intellectual disability, psychiatric disability or newborns (Carruthers, 1992).\n",
      "The concept 'animals' is very wide and include a variety of different creatures from chimpanzees to oysters. We are often very conscious about making a distinction between humans and chimpanzees but scientifically it's proved that humans are more psycologically related to chimpanzees than chimpanzees are to oysters. Thus, personally I think it would be more logical to draw the line between creatures that have consciousness and those who haven't. The animals with consciousness have feelings and goals for their existence, they have emotions and can feel pain and joy and know if a thing goes good or bad. All these animals should have the same right as humans to exist for their own sake as individuals and not being valued just for how useful they are to humans, for example, just as we wouldn't do experiments on people with intelectual disabilities we shouldnt do it to animals since intelectual abilities seem to be the things we base the world hierarcy upon.\n"
     ]
    }
   ],
   "source": [
    "#Open the file and read it into a variable 'text'\n",
    "file = open(\"SampleText.txt\")\n",
    "rawtext = file.read()\n",
    "file.close()\n",
    "print(rawtext)\n",
    "\n",
    "#Split the document by newlines to give us paragraphs\n",
    "doc = rawtext.split(\"\\n\")"
   ]
  },
  {
   "cell_type": "markdown",
   "metadata": {},
   "source": [
    "However, this is not very human friendly output. A better display might be to use the HTML of the browser. To do this, we need to load some additional python libraries."
   ]
  },
  {
   "cell_type": "code",
   "execution_count": 7,
   "metadata": {},
   "outputs": [
    {
     "data": {
      "text/html": [
       "<p>Today most of us accept science. Science of today, especially Darwins Evolutionary Theory teaches us that the human race has developed from animals and that humanbeings basically are animals among other animals. Eventhough we do agree with this aspect of science we tend to consider man as the almighty, powerful, crown of creation with a natural right to treat animals as we please and use them for our own purposes as food, tools and experiment instruments, and I belive this is wrong and in this essay I will explain why we morally have no right to exploit animals. I am also going to show how meaningless many of the experiments made on animals are.</p><p>To begin with I would like to say that the line we draw today in order to distinguish ourselves from animals is strictly arbitrary, illogical and selfish and there isn't a quality and that includes all humanity that empowers us a narural position as top of the food chain and superiour to animals. Most humanbeings have unique capacities though, such as language and higher mental abilities than animals but it's important to emphasize that these abilities don't include all humanity, for example they don't include people with an intellectual disability, psychiatric disability or newborns (Carruthers, 1992).</p><p>The concept 'animals' is very wide and include a variety of different creatures from chimpanzees to oysters. We are often very conscious about making a distinction between humans and chimpanzees but scientifically it's proved that humans are more psycologically related to chimpanzees than chimpanzees are to oysters. Thus, personally I think it would be more logical to draw the line between creatures that have consciousness and those who haven't. The animals with consciousness have feelings and goals for their existence, they have emotions and can feel pain and joy and know if a thing goes good or bad. All these animals should have the same right as humans to exist for their own sake as individuals and not being valued just for how useful they are to humans, for example, just as we wouldn't do experiments on people with intelectual disabilities we shouldnt do it to animals since intelectual abilities seem to be the things we base the world hierarcy upon.</p>"
      ],
      "text/plain": [
       "<IPython.core.display.HTML object>"
      ]
     },
     "metadata": {},
     "output_type": "display_data"
    }
   ],
   "source": [
    "#Libraries contain functions that we can use to perform complex tasks without rewriting many lines of code\n",
    "from IPython.core.display import display, HTML  # Allows us to create annotated text using HTML and CSS\n",
    "\n",
    "#A function to wrap text in a paragraph tag\n",
    "def pTag(text):\n",
    "    return \"<p>\"+text+\"</p>\"\n",
    "\n",
    "#Wrap each paragraph of the doc for HTML display\n",
    "paras = map(pTag,doc)\n",
    "htmlDoc = HTML(''.join(paras))\n",
    "\n",
    "display(htmlDoc)"
   ]
  },
  {
   "cell_type": "markdown",
   "metadata": {},
   "source": [
    "> ** DISCUSSION **\n",
    ">\n",
    ">  - What types of feedback can we give to improve this essay? \n",
    ">  - Can we try to automate this feedback (on certain criteria) using textual features?"
   ]
  },
  {
   "cell_type": "markdown",
   "metadata": {},
   "source": [
    "---\n",
    "\n",
    "### Langage features in the writing\n",
    "\n",
    "Let's now identify language features to provide useful feedback on the given essay. This is a ground-up approach where we first look at the pedagogial context to identify the scope of automated feedback and then bring in the analytics where it fits in.\n",
    "\n",
    "Some example features that we can use to provide feedback in this context are below:\n",
    "* Structural Metrics (sentence, word level)\n",
    "* Vocabulary\n",
    "* Mechanics (spelling, grammar)\n",
    "* Rhetorical structures\n",
    "* Referencing formats\n",
    "\n",
    "<img src=\"WAlayers.png\" style=\"width: 60%;\"/>\n"
   ]
  },
  {
   "cell_type": "markdown",
   "metadata": {},
   "source": [
    "---\n",
    "\n",
    "### Formulating and refining hypotheses\n",
    "\n",
    "**Writing Anaytics involves formulating hypothesis around how computation and pedagogy might connect in a way that provides practical learning benefits for the student.**\n",
    "\n",
    "Each hypothesis should specific and testable. That is, the practical results of it working should be clearly identifiable. They are not lofty ideals or goals - if they test true then there should be real practical learning benefits for the student. \n",
    "\n",
    "In this example, we will focus on how simple features in the text may be computationally identifiable and turned into formative feedback for the student. We make use of our context knowledge, theory and text observations to formulate and refine these hypothesis. \n",
    "\n",
    "Example hypotheses: \n",
    "1. Feedback on the readability could be created from the detection of long sentences.\n",
    "2. Feedback on referencing requirements of the task could be generated from the presence of names in the text.\n",
    "3. Feedback on writing as third person could be generated from the idenfication of first person pronouns. \n",
    "4. Feedback on wordiness could be based on the presence of too many adjectives.\n",
    "5. Feedback on structure based on the presence of rhetorical moves.\n",
    "\n",
    "For each hypothesis, code is written to analyse the text and create formative feedback for the student based on the analytics. In a complete scenario, the students reaction to this feedback would be analysed providing an evaluation of the hypothesis. On the basis of this evaluation, the hypothesis could be refined, or other aspects of the process could be adjusted to improve the practical outcomes for the student."
   ]
  },
  {
   "cell_type": "markdown",
   "metadata": {},
   "source": [
    "---\n",
    "\n",
    "## Implementation\n",
    "\n",
    "### Hypothesis 1 - feedback on readability\n",
    "\n",
    "We will make use of the open-source API called [Text Analytics Pipeline (TAP)](https://github.com/uts-cic/tap) to receive analytics about the text. To use TAP's analytics capability, we need to query the TAP graphql endpoint with the text that we want analysed. To do this, we need to construct the ```query``` , and a ```request header``` to tell TAP about the data format. Requesting for and receiving analytics from TAP consists of the following steps:"
   ]
  },
  {
   "cell_type": "markdown",
   "metadata": {},
   "source": [
    "**[1]** Write a function to get json data from TAP based on a given query"
   ]
  },
  {
   "cell_type": "code",
   "execution_count": 8,
   "metadata": {},
   "outputs": [],
   "source": [
    "import json                                 # We need to be able to work whith JSON\n",
    "from urllib import request, response        # To create requests to TAP and handle responses from TAP\n",
    "import string                               # To help with cleaning text and visualising analytics\n",
    "\n",
    "def getJsonFromTAP(query,text,url):\n",
    "    variables = {'input': text}\n",
    "    escapedQuery = query.replace(\"\\n\", \"\\\\n\") #query.encode('utf8').decode('unicode_escape')\n",
    "    fullQuery = json.dumps({'query': escapedQuery, 'variables': variables})\n",
    "    jsonHeader = {'Content-Type':'application/json'}\n",
    "    tapReq = request.Request(url, data = fullQuery.encode('utf8'), headers = jsonHeader)\n",
    "    tapResponse = \"\"\n",
    "    try:\n",
    "        tapResponse = request.urlopen(tapReq)\n",
    "        body = tapResponse.read().decode('utf8')           \n",
    "        return json.loads(body)\n",
    "    except Exception as e:\n",
    "        print(e)\n",
    "        return json.dumps({})\n",
    "    "
   ]
  },
  {
   "cell_type": "markdown",
   "metadata": {},
   "source": [
    "**[2]** Create the query and get analytics from TAP"
   ]
  },
  {
   "cell_type": "code",
   "execution_count": 9,
   "metadata": {},
   "outputs": [
    {
     "name": "stdout",
     "output_type": "stream",
     "text": [
      "Output json object from TAP:\n",
      "\n",
      "{'data': {'metrics': {'analytics': {'sentWordCounts': [6, 26, 66, 16, 54, 46, 17, 31, 23, 29, 64], 'averageSentWordCount': 34.36363636363637, 'sentences': 11, 'words': 378}}}}\n"
     ]
    }
   ],
   "source": [
    "# A Query for sentence level metrics query for TAP with given text\n",
    "metricsQuery = \"query Metrics($input: String!){ metrics(text: $input) { analytics {words, sentences, sentWordCounts, averageSentWordCount } } }\"\n",
    "\n",
    "tapUrl = \"http://tap-test.utscic.edu.au/\"   # TAP URL\n",
    "endpoint = \"graphql\"                        # The query endpoint on TAP\n",
    "completeUrl = tapUrl + endpoint             # The complete url that the request is posted to\n",
    "\n",
    "# Send the query to TAP along with the text to be analysed\n",
    "jsonData = getJsonFromTAP(metricsQuery,rawtext,completeUrl)\n",
    "\n",
    "print(\"Output json object from TAP:\\n\")\n",
    "print(jsonData)"
   ]
  },
  {
   "cell_type": "markdown",
   "metadata": {},
   "source": [
    "---\n",
    "### Text Analytics Pipeline (TAP)\n",
    "\n",
    "[Text Analytics Pipeline (TAP)](https://github.com/heta-io/tap) is an open-source API that provides analytics about the text. It has a [graphql endpoint](http://tap-test.utscic.edu.au/graphiql) which provides a user interface to test user queries based on the given input and view its corresponding outputs. To make use of text analytics from TAP, calls to the API can be made in the form of query requests, as demonstrated in this notebook.  \n",
    "\n",
    "---"
   ]
  },
  {
   "cell_type": "markdown",
   "metadata": {},
   "source": [
    "**[5]** Extract some general sentence-level metrics to provide summary statistics, and sentence word counts to provide specific feedback."
   ]
  },
  {
   "cell_type": "code",
   "execution_count": 10,
   "metadata": {},
   "outputs": [],
   "source": [
    "# Get the metrics from the returned JSON\n",
    "wordCount = jsonData.get('data').get('metrics').get('analytics').get('words') \n",
    "sentCount = jsonData.get('data').get('metrics').get('analytics').get('sentences')\n",
    "avgSentWordCount = jsonData.get('data').get('metrics').get('analytics').get('averageSentWordCount')\n",
    "avgSentWordCount = round(avgSentWordCount,2)\n",
    "sentWordCounts = jsonData.get('data').get('metrics').get('analytics').get('sentWordCounts')\n",
    "#print(sentWordCounts)\n",
    "\n",
    "# Get the sentence length standard deviation\n",
    "import statistics as stats\n",
    "stddev = stats.stdev(sentWordCounts)\n",
    "\n",
    "# A threshold for long sentences\n",
    "threshold = int(avgSentWordCount)+int(1.5*stddev)\n",
    "\n",
    "# A function to return list of long sentences based on the threshold\n",
    "def longSents(sentCounts,threshold):\n",
    "    return [i+1 for i,x in enumerate(sentCounts) if x >= threshold]\n",
    "\n",
    "longSentences = longSents(sentWordCounts,threshold)\n",
    "#print(longSentences)\n",
    "\n",
    "#A function to return list of sentences with paragraph tag - for formatting the text later with output\n",
    "def paraSents(sents):\n",
    "    return [i+1 for i,x in enumerate(sents) if '<ptag>' in str(sents[i])]\n",
    "\n",
    "rawtextnew = rawtext.replace('\\n', ' <ptag>')\n",
    "rawtextnew = rawtextnew.replace('. ','. <eos>')\n",
    "sentences = rawtextnew.split('<eos>')\n",
    "paraSentences = paraSents(sentences)\n",
    "#print(paraSentences)"
   ]
  },
  {
   "cell_type": "markdown",
   "metadata": {},
   "source": [
    "**[6]** Display the results\n",
    "\n",
    "Teachers may be interested in basic metrics associated with student texts"
   ]
  },
  {
   "cell_type": "code",
   "execution_count": 11,
   "metadata": {},
   "outputs": [
    {
     "name": "stdout",
     "output_type": "stream",
     "text": [
      "\u001b[91m<<<<< SUMMARY STATS FOR TEACHER >>>>>\n",
      "\u001b[0m\n",
      "Total Words:  378\n",
      "Total Sentences:  11\n",
      "Average Words in a sentence:  34.36\n",
      "Long sentence threshold:  64\n",
      "Long sentences:  [3, 11]\n"
     ]
    }
   ],
   "source": [
    "#Defining formatting options for the text\n",
    "class color:\n",
    "   RED = '\\033[91m'\n",
    "   BOLD = '\\033[1m'\n",
    "   UNDERLINE = '\\033[4m'\n",
    "   END = '\\033[0m'\n",
    "\n",
    "#print(color.BOLD+\"Your text:\\n\"+color.END,ta.value,\"\\n\")\n",
    "print(color.RED +\"<<<<< SUMMARY STATS FOR TEACHER >>>>>\\n\"+color.END)\n",
    "\n",
    "## General summary statistics of the text\n",
    "#print(color.BOLD+\"Summary Statistics on your text:\"+color.END)\n",
    "\n",
    "print (\"Total Words: \",wordCount)\n",
    "print (\"Total Sentences: \",sentCount)\n",
    "print (\"Average Words in a sentence: \",avgSentWordCount)\n",
    "print (\"Long sentence threshold: \",threshold)\n",
    "print (\"Long sentences: \",longSentences)"
   ]
  },
  {
   "cell_type": "markdown",
   "metadata": {},
   "source": [
    "For student facing feedback, we need to consider what may be helpful to the student. For these simple metrics, the total word count could be useful (if a length was set for the assignment), and making the student aware of long sentences may be helpful.\n",
    "\n",
    "Adapting the paragraph html display above, we can highlight long sentences.\n"
   ]
  },
  {
   "cell_type": "code",
   "execution_count": 12,
   "metadata": {},
   "outputs": [
    {
     "data": {
      "text/html": [
       "\n",
       "<style>\n",
       ".feedback {\n",
       "    color: darkslateblue;\n",
       "}\n",
       ".long {\n",
       "    background-color: yellow;\n",
       "}\n",
       "</style>\n",
       "\n"
      ],
      "text/plain": [
       "<IPython.core.display.HTML object>"
      ]
     },
     "metadata": {},
     "output_type": "display_data"
    },
    {
     "data": {
      "text/html": [
       "\n",
       "<h4>Feedback</h4>\n",
       "<p class=\"feedback\"><b>Long Sentences - </b>When you write, consider making it easy for the reader. Sentences that are\n",
       "too long can be difficult to read. They can cause the reader to re-read the sentence multiple times to try and \n",
       "understand it, interrupting the flow of the text. Sentences that may be too long are <span class=\"long\">highlighted \n",
       "in yellow</span>. Consider breaking these into smaller sentences to help make your writing easier to read.</p>\n",
       "\n",
       "<p><b>Your text:</b></p>\n",
       "<p>Today most of us accept science. Science of today, especially Darwins Evolutionary Theory teaches us that the human race has developed from animals and that humanbeings basically are animals among other animals. <span class=\"long\">Eventhough we do agree with this aspect of science we tend to consider man as the almighty, powerful, crown of creation with a natural right to treat animals as we please and use them for our own purposes as food, tools and experiment instruments, and I belive this is wrong and in this essay I will explain why we morally have no right to exploit animals.</span> I am also going to show how meaningless many of the experiments made on animals are. <p>To begin with I would like to say that the line we draw today in order to distinguish ourselves from animals is strictly arbitrary, illogical and selfish and there isn't a quality and that includes all humanity that empowers us a narural position as top of the food chain and superiour to animals. Most humanbeings have unique capacities though, such as language and higher mental abilities than animals but it's important to emphasize that these abilities don't include all humanity, for example they don't include people with an intellectual disability, psychiatric disability or newborns (Carruthers, 1992). <p>The concept 'animals' is very wide and include a variety of different creatures from chimpanzees to oysters. We are often very conscious about making a distinction between humans and chimpanzees but scientifically it's proved that humans are more psycologically related to chimpanzees than chimpanzees are to oysters. Thus, personally I think it would be more logical to draw the line between creatures that have consciousness and those who haven't. The animals with consciousness have feelings and goals for their existence, they have emotions and can feel pain and joy and know if a thing goes good or bad. <span class=\"long\">All these animals should have the same right as humans to exist for their own sake as individuals and not being valued just for how useful they are to humans, for example, just as we wouldn't do experiments on people with intelectual disabilities we shouldnt do it to animals since intelectual abilities seem to be the things we base the world hierarcy upon.</span></p>"
      ],
      "text/plain": [
       "<IPython.core.display.HTML object>"
      ]
     },
     "metadata": {},
     "output_type": "display_data"
    }
   ],
   "source": [
    "# TAP can return the sentences from the text...\n",
    "\n",
    "#A function to wrap text in a span tag with 'long' class\n",
    "def longTag(kv):\n",
    "    idx = kv[0]+1\n",
    "    text = kv[1]\n",
    "    if idx in longSentences:\n",
    "        if idx in paraSentences:\n",
    "            print(text)\n",
    "            return '<span class=\"long\"><p>'+text+'</p></span>'\n",
    "        else:\n",
    "            return '<span class=\"long\">'+text+'</span>'\n",
    "    else: \n",
    "        if idx in paraSentences:\n",
    "            return '<p>'+text\n",
    "        else:\n",
    "            return text\n",
    "    \n",
    "def markupParaSentences(para):\n",
    "    sentencesQuery = \"query Sentences($input: String!){ annotations(text: $input) { analytics {idx, original, tokens { term }} }}\"\n",
    "    jsonData = getJsonFromTAP(sentencesQuery,para,completeUrl)\n",
    "    sentencesJson = jsonData.get('data').get('annotations').get('analytics') #.get('original') \n",
    "    \n",
    "    def getSentence(json):\n",
    "        return (json.get('idx'),json.get('original'))\n",
    "    \n",
    "    sentences = map(getSentence,sentencesJson)\n",
    "    pText =  ' '.join(map(longTag,sentences))\n",
    "    return '<p>'+pText+'</p>'\n",
    "\n",
    "comment = \"\"\"\n",
    "<h4>Feedback</h4>\n",
    "<p class=\"feedback\"><b>Long Sentences - </b>When you write, consider making it easy for the reader. Sentences that are\n",
    "too long can be difficult to read. They can cause the reader to re-read the sentence multiple times to try and \n",
    "understand it, interrupting the flow of the text. Sentences that may be too long are <span class=\"long\">highlighted \n",
    "in yellow</span>. Consider breaking these into smaller sentences to help make your writing easier to read.</p>\n",
    "\n",
    "<p><b>Your text:</b></p>\n",
    "\"\"\"\n",
    "\n",
    "docnew = [rawtext]\n",
    "\n",
    "html = HTML(comment + ''.join(map(markupParaSentences,docnew)))\n",
    "\n",
    "css = HTML(\"\"\"\n",
    "<style>\n",
    ".feedback {\n",
    "    color: darkslateblue;\n",
    "}\n",
    ".long {\n",
    "    background-color: yellow;\n",
    "}\n",
    "</style>\n",
    "\n",
    "\"\"\")\n",
    "\n",
    "display(css,html)"
   ]
  },
  {
   "cell_type": "markdown",
   "metadata": {},
   "source": [
    "> ** DISCUSSION **\n",
    ">\n",
    ">  - Is this writing feedback applicable for all kinds of writing?\n",
    ">  - Can the feedback be better expressed?\n",
    ">  - Can we come up with a statistically valid threshold for the maximum words allowed in a sentence?\n"
   ]
  },
  {
   "cell_type": "markdown",
   "metadata": {},
   "source": [
    "---\n",
    "\n",
    "### Hypothesis 2 - feedback on referring to sources\n",
    "\n",
    "This hypothesis is based around linking the identification of Named Entities (People, Organisations, Locations, Dates) to the requirement in the learning task to refer to at least 2 philosophers in a given list. By extracting names, we should be able to check this requirement."
   ]
  },
  {
   "cell_type": "code",
   "execution_count": 13,
   "metadata": {},
   "outputs": [
    {
     "name": "stdout",
     "output_type": "stream",
     "text": [
      "[('Today', 'O', 'NN'), ('most', 'O', 'JJS'), ('of', 'O', 'IN'), ('us', 'O', 'PRP'), ('accept', 'O', 'VBP'), ('science', 'O', 'NN'), ('.', 'O', '.'), ('Science', 'O', 'NN'), ('of', 'O', 'IN'), ('today', 'O', 'NN'), (',', 'O', ','), ('especially', 'O', 'RB'), ('Darwins', 'ORG', 'NNP'), ('Evolutionary', 'ORG', 'NNP'), ('Theory', 'ORG', 'NNP'), ('teaches', 'O', 'VBZ'), ('us', 'O', 'PRP'), ('that', 'O', 'IN'), ('the', 'O', 'DT'), ('human', 'O', 'JJ'), ('race', 'O', 'NN'), ('has', 'O', 'VBZ'), ('developed', 'O', 'VBN'), ('from', 'O', 'IN'), ('animals', 'O', 'NNS'), ('and', 'O', 'CC'), ('that', 'O', 'IN'), ('humanbeings', 'O', 'NNS'), ('basically', 'O', 'RB'), ('are', 'O', 'VBP'), ('animals', 'O', 'NNS'), ('among', 'O', 'IN'), ('other', 'O', 'JJ'), ('animals', 'O', 'NNS'), ('.', 'O', '.'), ('Eventhough', 'O', 'NNP'), ('we', 'O', 'PRP'), ('do', 'O', 'VBP'), ('agree', 'O', 'VB'), ('with', 'O', 'IN'), ('this', 'O', 'DT'), ('aspect', 'O', 'NN'), ('of', 'O', 'IN'), ('science', 'O', 'NN'), ('we', 'O', 'PRP'), ('tend', 'O', 'VBP'), ('to', 'O', 'TO'), ('consider', 'O', 'VB'), ('man', 'O', 'NN'), ('as', 'O', 'IN'), ('the', 'O', 'DT'), ('almighty', 'O', 'NN'), (',', 'O', ','), ('powerful', 'O', 'JJ'), (',', 'O', ','), ('crown', 'O', 'NN'), ('of', 'O', 'IN'), ('creation', 'O', 'NN'), ('with', 'O', 'IN'), ('a', 'O', 'DT'), ('natural', 'O', 'JJ'), ('right', 'O', 'NN'), ('to', 'O', 'TO'), ('treat', 'O', 'VB'), ('animals', 'O', 'NNS'), ('as', 'O', 'IN'), ('we', 'O', 'PRP'), ('please', 'O', 'VBP'), ('and', 'O', 'CC'), ('use', 'O', 'VBP'), ('them', 'O', 'PRP'), ('for', 'O', 'IN'), ('our', 'O', 'PRP$'), ('own', 'O', 'JJ'), ('purposes', 'O', 'NNS'), ('as', 'O', 'IN'), ('food', 'O', 'NN'), (',', 'O', ','), ('tools', 'O', 'NNS'), ('and', 'O', 'CC'), ('experiment', 'O', 'NN'), ('instruments', 'O', 'NNS'), (',', 'O', ','), ('and', 'O', 'CC'), ('I', 'O', 'PRP'), ('belive', 'O', 'VBP'), ('this', 'O', 'DT'), ('is', 'O', 'VBZ'), ('wrong', 'O', 'JJ'), ('and', 'O', 'CC'), ('in', 'O', 'IN'), ('this', 'O', 'DT'), ('essay', 'O', 'NN'), ('I', 'O', 'PRP'), ('will', 'O', 'MD'), ('explain', 'O', 'VB'), ('why', 'O', 'WRB'), ('we', 'O', 'PRP'), ('morally', 'O', 'RB'), ('have', 'O', 'VBP'), ('no', 'O', 'DT'), ('right', 'O', 'NN'), ('to', 'O', 'TO'), ('exploit', 'O', 'VB'), ('animals', 'O', 'NNS'), ('.', 'O', '.'), ('I', 'O', 'PRP'), ('am', 'O', 'VBP'), ('also', 'O', 'RB'), ('going', 'O', 'VBG'), ('to', 'O', 'TO'), ('show', 'O', 'VB'), ('how', 'O', 'WRB'), ('meaningless', 'O', 'JJ'), ('many', 'O', 'JJ'), ('of', 'O', 'IN'), ('the', 'O', 'DT'), ('experiments', 'O', 'NNS'), ('made', 'O', 'VBN'), ('on', 'O', 'IN'), ('animals', 'O', 'NNS'), ('are', 'O', 'VBP'), ('.', 'O', '.'), ('To', 'O', 'TO'), ('begin', 'O', 'VB'), ('with', 'O', 'IN'), ('I', 'O', 'PRP'), ('would', 'O', 'MD'), ('like', 'O', 'VB'), ('to', 'O', 'TO'), ('say', 'O', 'VB'), ('that', 'O', 'IN'), ('the', 'O', 'DT'), ('line', 'O', 'NN'), ('we', 'O', 'PRP'), ('draw', 'O', 'VBP'), ('today', 'O', 'NN'), ('in', 'O', 'IN'), ('order', 'O', 'NN'), ('to', 'O', 'TO'), ('distinguish', 'O', 'VB'), ('ourselves', 'O', 'PRP'), ('from', 'O', 'IN'), ('animals', 'O', 'NNS'), ('is', 'O', 'VBZ'), ('strictly', 'O', 'RB'), ('arbitrary', 'O', 'JJ'), (',', 'O', ','), ('illogical', 'O', 'JJ'), ('and', 'O', 'CC'), ('selfish', 'O', 'JJ'), ('and', 'O', 'CC'), ('there', 'O', 'EX'), ('is', 'O', 'VBZ'), (\"n't\", 'O', 'RB'), ('a', 'O', 'DT'), ('quality', 'O', 'NN'), ('and', 'O', 'CC'), ('that', 'O', 'DT'), ('includes', 'O', 'VBZ'), ('all', 'O', 'DT'), ('humanity', 'O', 'NN'), ('that', 'O', 'WDT'), ('empowers', 'O', 'VBZ'), ('us', 'O', 'PRP'), ('a', 'O', 'DT'), ('narural', 'O', 'JJ'), ('position', 'O', 'NN'), ('as', 'O', 'IN'), ('top', 'O', 'NN'), ('of', 'O', 'IN'), ('the', 'O', 'DT'), ('food', 'O', 'NN'), ('chain', 'O', 'NN'), ('and', 'O', 'CC'), ('superiour', 'O', 'NN'), ('to', 'O', 'IN'), ('animals', 'O', 'NNS'), ('.', 'O', '.'), ('Most', 'O', 'JJS'), ('humanbeings', 'O', 'NNS'), ('have', 'O', 'VBP'), ('unique', 'O', 'JJ'), ('capacities', 'O', 'NNS'), ('though', 'O', 'RB'), (',', 'O', ','), ('such', 'O', 'JJ'), ('as', 'O', 'IN'), ('language', 'O', 'NN'), ('and', 'O', 'CC'), ('higher', 'O', 'JJR'), ('mental', 'O', 'JJ'), ('abilities', 'O', 'NNS'), ('than', 'O', 'IN'), ('animals', 'O', 'NNS'), ('but', 'O', 'CC'), ('it', 'O', 'PRP'), (\"'s\", 'O', 'VBZ'), ('important', 'O', 'JJ'), ('to', 'O', 'TO'), ('emphasize', 'O', 'VB'), ('that', 'O', 'IN'), ('these', 'O', 'DT'), ('abilities', 'O', 'NNS'), ('do', 'O', 'VBP'), (\"n't\", 'O', 'RB'), ('include', 'O', 'VB'), ('all', 'O', 'DT'), ('humanity', 'O', 'NN'), (',', 'O', ','), ('for', 'O', 'IN'), ('example', 'O', 'NN'), ('they', 'O', 'PRP'), ('do', 'O', 'VBP'), (\"n't\", 'O', 'RB'), ('include', 'O', 'VB'), ('people', 'O', 'NNS'), ('with', 'O', 'IN'), ('an', 'O', 'DT'), ('intellectual', 'O', 'JJ'), ('disability', 'O', 'NN'), (',', 'O', ','), ('psychiatric', 'O', 'JJ'), ('disability', 'O', 'NN'), ('or', 'O', 'CC'), ('newborns', 'O', 'NNS'), ('(', 'O', '-LRB-'), ('Carruthers', 'ORG', 'NNS'), (',', 'O', ','), ('1992', 'O', 'CD'), (')', 'O', '-RRB-'), ('.', 'O', '.'), ('The', 'O', 'DT'), ('concept', 'O', 'NN'), (\"'\", 'O', '``'), ('animals', 'O', 'NNS'), (\"'\", 'O', \"''\"), ('is', 'O', 'VBZ'), ('very', 'O', 'RB'), ('wide', 'O', 'JJ'), ('and', 'O', 'CC'), ('include', 'O', 'VBP'), ('a', 'O', 'DT'), ('variety', 'O', 'NN'), ('of', 'O', 'IN'), ('different', 'O', 'JJ'), ('creatures', 'O', 'NNS'), ('from', 'O', 'IN'), ('chimpanzees', 'O', 'NNS'), ('to', 'O', 'IN'), ('oysters', 'O', 'NNS'), ('.', 'O', '.'), ('We', 'O', 'PRP'), ('are', 'O', 'VBP'), ('often', 'O', 'RB'), ('very', 'O', 'RB'), ('conscious', 'O', 'JJ'), ('about', 'O', 'IN'), ('making', 'O', 'VBG'), ('a', 'O', 'DT'), ('distinction', 'O', 'NN'), ('between', 'O', 'IN'), ('humans', 'O', 'NNS'), ('and', 'O', 'CC'), ('chimpanzees', 'O', 'NNS'), ('but', 'O', 'CC'), ('scientifically', 'O', 'RB'), ('it', 'O', 'PRP'), (\"'s\", 'O', 'VBZ'), ('proved', 'O', 'VBN'), ('that', 'O', 'IN'), ('humans', 'O', 'NNS'), ('are', 'O', 'VBP'), ('more', 'O', 'RBR'), ('psycologically', 'O', 'RB'), ('related', 'O', 'VBN'), ('to', 'O', 'IN'), ('chimpanzees', 'O', 'NNS'), ('than', 'O', 'IN'), ('chimpanzees', 'O', 'NNS'), ('are', 'O', 'VBP'), ('to', 'O', 'IN'), ('oysters', 'O', 'NNS'), ('.', 'O', '.'), ('Thus', 'O', 'RB'), (',', 'O', ','), ('personally', 'O', 'RB'), ('I', 'O', 'PRP'), ('think', 'O', 'VBP'), ('it', 'O', 'PRP'), ('would', 'O', 'MD'), ('be', 'O', 'VB'), ('more', 'O', 'RBR'), ('logical', 'O', 'JJ'), ('to', 'O', 'TO'), ('draw', 'O', 'VB'), ('the', 'O', 'DT'), ('line', 'O', 'NN'), ('between', 'O', 'IN'), ('creatures', 'O', 'NNS'), ('that', 'O', 'WDT'), ('have', 'O', 'VBP'), ('consciousness', 'O', 'NN'), ('and', 'O', 'CC'), ('those', 'O', 'DT'), ('who', 'O', 'WP'), ('have', 'O', 'VBP'), (\"n't\", 'O', 'RB'), ('.', 'O', '.'), ('The', 'O', 'DT'), ('animals', 'O', 'NNS'), ('with', 'O', 'IN'), ('consciousness', 'O', 'NN'), ('have', 'O', 'VBP'), ('feelings', 'O', 'NNS'), ('and', 'O', 'CC'), ('goals', 'O', 'NNS'), ('for', 'O', 'IN'), ('their', 'O', 'PRP$'), ('existence', 'O', 'NN'), (',', 'O', ','), ('they', 'O', 'PRP'), ('have', 'O', 'VBP'), ('emotions', 'O', 'NNS'), ('and', 'O', 'CC'), ('can', 'O', 'MD'), ('feel', 'O', 'VB'), ('pain', 'O', 'NN'), ('and', 'O', 'CC'), ('joy', 'O', 'NN'), ('and', 'O', 'CC'), ('know', 'O', 'VBP'), ('if', 'O', 'IN'), ('a', 'O', 'DT'), ('thing', 'O', 'NN'), ('goes', 'O', 'VBZ'), ('good', 'O', 'JJ'), ('or', 'O', 'CC'), ('bad', 'O', 'JJ'), ('.', 'O', '.'), ('All', 'O', 'PDT'), ('these', 'O', 'DT'), ('animals', 'O', 'NNS'), ('should', 'O', 'MD'), ('have', 'O', 'VB'), ('the', 'O', 'DT'), ('same', 'O', 'JJ'), ('right', 'O', 'NN'), ('as', 'O', 'IN'), ('humans', 'O', 'NNS'), ('to', 'O', 'TO'), ('exist', 'O', 'VB'), ('for', 'O', 'IN'), ('their', 'O', 'PRP$'), ('own', 'O', 'JJ'), ('sake', 'O', 'NN'), ('as', 'O', 'IN'), ('individuals', 'O', 'NNS'), ('and', 'O', 'CC'), ('not', 'O', 'RB'), ('being', 'O', 'VBG'), ('valued', 'O', 'VBN'), ('just', 'O', 'RB'), ('for', 'O', 'IN'), ('how', 'O', 'WRB'), ('useful', 'O', 'JJ'), ('they', 'O', 'PRP'), ('are', 'O', 'VBP'), ('to', 'O', 'IN'), ('humans', 'O', 'NNS'), (',', 'O', ','), ('for', 'O', 'IN'), ('example', 'O', 'NN'), (',', 'O', ','), ('just', 'O', 'RB'), ('as', 'O', 'IN'), ('we', 'O', 'PRP'), ('would', 'O', 'MD'), (\"n't\", 'O', 'RB'), ('do', 'O', 'VB'), ('experiments', 'O', 'NNS'), ('on', 'O', 'IN'), ('people', 'O', 'NNS'), ('with', 'O', 'IN'), ('intelectual', 'O', 'JJ'), ('disabilities', 'O', 'NNS'), ('we', 'O', 'PRP'), ('shouldnt', 'O', 'VBP'), ('do', 'O', 'VB'), ('it', 'O', 'PRP'), ('to', 'O', 'IN'), ('animals', 'O', 'NNS'), ('since', 'O', 'IN'), ('intelectual', 'O', 'JJ'), ('abilities', 'O', 'NNS'), ('seem', 'O', 'VBP'), ('to', 'O', 'TO'), ('be', 'O', 'VB'), ('the', 'O', 'DT'), ('things', 'O', 'NNS'), ('we', 'O', 'PRP'), ('base', 'O', 'VBP'), ('the', 'O', 'DT'), ('world', 'O', 'NN'), ('hierarcy', 'O', 'NN'), ('upon', 'O', 'IN'), ('.', 'O', '.')]\n",
      "['Darwins', 'Evolutionary', 'Theory', 'Carruthers']\n"
     ]
    }
   ],
   "source": [
    "#Extracting named entities from the input text using NER\n",
    "\n",
    "# function to extract the tags\n",
    "def getPosNer(json):\n",
    "    return(json.get('term'),json.get('nertag'),json.get('postag'))\n",
    "    \n",
    "# function to get a list of tokens from a sentence\n",
    "def getTokens(json):\n",
    "    tokens = json.get('tokens')\n",
    "    return list(map(getPosNer,tokens))\n",
    "\n",
    "# the main function that initiates the TAP query and extracts the results\n",
    "def getTags(para):\n",
    "    query = \"query TokeniseWithNer($input: String!){  annotations(text:$input,pipetype:\\\"ner\\\") { analytics {tokens {term,postag, nertag} } }}\"\n",
    "    jsonData = getJsonFromTAP(query,para,completeUrl)\n",
    "    annotationsJson = jsonData.get('data').get('annotations').get('analytics') #.get('original')\n",
    "    return list(map(getTokens,annotationsJson))\n",
    "\n",
    "# function to turn a nested list into a list of strings\n",
    "def flatten(nestList):\n",
    "    newList = []\n",
    "    for lst in nestList:\n",
    "        for tups in lst:\n",
    "            newList = newList + tups\n",
    "    return newList\n",
    "\n",
    "# a filter for named entities\n",
    "def isNE(tagTuple):\n",
    "    return tagTuple[1] != 'O'\n",
    "\n",
    "# extract terms from the tuple\n",
    "def getTerms(tagTuple):\n",
    "    return tagTuple[0]\n",
    "\n",
    "\n",
    "# put all of the above functions together...\n",
    "\n",
    "# get the tags\n",
    "tags = flatten(map(getTags,doc))\n",
    "print(tags)\n",
    "\n",
    "# get the named entities\n",
    "names = list(map(getTerms,filter(isNE,tags)))\n",
    "print(names)"
   ]
  },
  {
   "cell_type": "markdown",
   "metadata": {},
   "source": [
    "The named entities found in the student's text need to be cross checked with those required by the task. For the purposes of this example, the task names are manually entered into the `definednames` list."
   ]
  },
  {
   "cell_type": "code",
   "execution_count": 14,
   "metadata": {},
   "outputs": [
    {
     "name": "stdout",
     "output_type": "stream",
     "text": [
      "Included philosophers:  ['Carruthers']\n",
      "Missing philosophers:  ['Descartes', 'Feinberg', 'Kant', 'Aristotle', 'Aquinas', 'Frey', 'Singer', 'Regan', 'Bentham']\n"
     ]
    }
   ],
   "source": [
    "definednames = ['Regan', 'Kant', 'Descartes', 'Aquinas', 'Aristotle', 'Carruthers', 'Feinberg', 'Frey', 'Bentham', 'Singer']\n",
    "\n",
    "#Find the list of names also present in our defined list of authors\n",
    "included = list(set(definednames).intersection(set(names)))\n",
    "print(\"Included philosophers: \",included)\n",
    "\n",
    "#Find the list of names missing in the input text\n",
    "missing = list(set(definednames)-set(names))\n",
    "print(\"Missing philosophers: \",missing)\n"
   ]
  },
  {
   "cell_type": "markdown",
   "metadata": {},
   "source": [
    "The task required that a minimum of 2 philosophers were included, so we generate a feedback message along these lines based on the analysis results. "
   ]
  },
  {
   "cell_type": "code",
   "execution_count": 15,
   "metadata": {},
   "outputs": [
    {
     "data": {
      "text/html": [
       "\n",
       "<style>\n",
       ".included {\n",
       "    color: green;\n",
       "}\n",
       ".missing {\n",
       "    color: red;\n",
       "}\n",
       "</style>\n",
       "\n"
      ],
      "text/plain": [
       "<IPython.core.display.HTML object>"
      ]
     },
     "metadata": {},
     "output_type": "display_data"
    },
    {
     "data": {
      "text/html": [
       "<h4>Feedback</h4>\n",
       "    <p class=\"feedback\"><b>Refering to authoritive sources - </b>It is important to refer to authoritative sources\n",
       "    in your writing.</p><p class=\"feedback\">The assessment task requires that you refer to a minimum number of authoritative sources,\n",
       "    yet it appears that you have <b>not</b> met this requirement. Check the list of missing sources and consider \n",
       "    how you might modify your text.</p><p><span class=\"feedback\">Sources included: </span>\n",
       "        <span class=\"included\">Carruthers</span></p><p><span class=\"feedback\">Sources not included: </span>\n",
       "        <span class=\"missing\">Descartes, Feinberg, Kant, Aristotle, Aquinas, Frey, Singer, Regan, Bentham</span></p>"
      ],
      "text/plain": [
       "<IPython.core.display.HTML object>"
      ]
     },
     "metadata": {},
     "output_type": "display_data"
    }
   ],
   "source": [
    "def referenceFeedback(included,missing,threshold):\n",
    "    header = \"\"\"<h4>Feedback</h4>\n",
    "    <p class=\"feedback\"><b>Refering to authoritive sources - </b>It is important to refer to authoritative sources\n",
    "    in your writing.</p>\"\"\"\n",
    "\n",
    "    negFeedback =  \"\"\"<p class=\"feedback\">The assessment task requires that you refer to a minimum number of authoritative sources,\n",
    "    yet it appears that you have <b>not</b> met this requirement. Check the list of missing sources and consider \n",
    "    how you might modify your text.</p>\"\"\"\n",
    "\n",
    "    posFeedback = \"\"\"<p class=\"feedback\">It appears that you have met the task requirement to refer to a minimum number of sources.</p>\"\"\"\n",
    "    \n",
    "    footer_incl = \"\"\"<p><span class=\"feedback\">Sources included: </span>\n",
    "        <span class=\"included\">\"\"\"+ ', '.join(included) + \"</span></p>\"\n",
    "    footer_miss = \"\"\"<p><span class=\"feedback\">Sources not included: </span>\n",
    "        <span class=\"missing\">\"\"\"+ ', '.join(missing) + \"</span></p>\"\n",
    "\n",
    "    if(len(included)<threshold):\n",
    "        return header + negFeedback + footer_incl + footer_miss\n",
    "    else:\n",
    "        return header + posFeedback + footer_incl\n",
    "\n",
    "\n",
    "css = HTML(\"\"\"\n",
    "<style>\n",
    ".included {\n",
    "    color: green;\n",
    "}\n",
    ".missing {\n",
    "    color: red;\n",
    "}\n",
    "</style>\n",
    "\n",
    "\"\"\")\n",
    "\n",
    "feedback = HTML(referenceFeedback(included,missing,2))\n",
    "display(css,feedback)"
   ]
  },
  {
   "cell_type": "markdown",
   "metadata": {},
   "source": [
    "> ** DISCUSSION **\n",
    ">\n",
    ">  - Can we define list of author names automatically?\n",
    ">  - Can we extract them from the given assessment task/ criteria for scalablility?\n"
   ]
  },
  {
   "cell_type": "markdown",
   "metadata": {},
   "source": [
    "---\n",
    "\n",
    "### Hypotheses 3 & 4 - feedback on first person and wordiness"
   ]
  },
  {
   "cell_type": "markdown",
   "metadata": {},
   "source": [
    "Next, we are going to generate writing feedback based on the parts-of-speech (pos) used in the text. We'll make use of hypotheses 3 and 4 to analyse text by identifying `personal pronouns` and `adjectives` present in the text. We hypothesize that good academic writing should not contain personal pronouns to ensure formal language. We also hypothesize that if a text contains many adjectives, it leads to wordy text with less clarity."
   ]
  },
  {
   "cell_type": "code",
   "execution_count": 16,
   "metadata": {},
   "outputs": [
    {
     "name": "stdout",
     "output_type": "stream",
     "text": [
      "{'us', 'we', 'ourselves', 'I', 'our', 'We'}\n"
     ]
    }
   ],
   "source": [
    "#Looking for personal pronoun usage in the text\n",
    "def isFirstPerson(tagTuple):\n",
    "    return tagTuple[2].startswith('PRP') and tagTuple[0].lower() not in ['they','their','it','them']\n",
    "\n",
    "personal = set(map(getTerms,filter(isFirstPerson,tags)))\n",
    "print(personal)"
   ]
  },
  {
   "cell_type": "code",
   "execution_count": 17,
   "metadata": {},
   "outputs": [
    {
     "name": "stdout",
     "output_type": "stream",
     "text": [
      "{'illogical', 'powerful', 'human', 'intellectual', 'personally', 'useful', 'especially', 'more', 'own', 'same', 'natural', 'unique', 'strictly', 'bad', 'important', 'intelectual', 'such', 'Most', 'psycologically', 'also', 'just', 'scientifically', 'wrong', 'logical', 'most', 'meaningless', 'mental', 'wide', 'often', 'morally', 'not', \"n't\", 'higher', 'different', 'many', 'very', 'basically', 'selfish', 'other', 'conscious', 'good', 'arbitrary', 'narural', 'Thus', 'though', 'psychiatric'}\n"
     ]
    }
   ],
   "source": [
    "#Looking for qualifier term usage in the text (adjectives, adverbs)\n",
    "def isQualifier(tagTuple):\n",
    "    return tagTuple[2].startswith('JJ') or tagTuple[2].startswith('RB') \n",
    "\n",
    "qualifier = set(map(getTerms,filter(isQualifier,tags)))\n",
    "print(qualifier)\n",
    "#qualterms =[]\n",
    "#myposlist2 = ['RB','RBR','RBS','JJ','JJR','JJS']\n",
    "#myposlist2 = ['JJ','JJR','JJS']\n",
    "#for key, value in posdict.items():\n",
    "#    if value in myposlist2:\n",
    "#        qualterms.append(key)\n",
    "        \n",
    "#print(qualterms)"
   ]
  },
  {
   "cell_type": "markdown",
   "metadata": {},
   "source": [
    "To provide writing feedback, let's also annotate the given text this time along with the feedback comments. This can help direct students' attention to certain parts of essay for improvements."
   ]
  },
  {
   "cell_type": "code",
   "execution_count": 18,
   "metadata": {},
   "outputs": [
    {
     "data": {
      "text/html": [
       "\n",
       "<style>\n",
       ".feedback {\n",
       "    color: darkslateblue;\n",
       "}\n",
       ".firstperson {\n",
       "    color: red;\n",
       "}\n",
       ".qualifier {\n",
       "    color: blue;\n",
       "}\n",
       "</style>\n",
       "\n"
      ],
      "text/plain": [
       "<IPython.core.display.HTML object>"
      ]
     },
     "metadata": {},
     "output_type": "display_data"
    },
    {
     "data": {
      "text/html": [
       "\n",
       "<h4>Feedback</h4>\n",
       "<p class=\"feedback\"><b>Third person language - </b>This task requires that you write from a third person point of view\n",
       "which means that you should avoid referring to yourself. You have used a number of first person pronouns in your writing,\n",
       "and these should be avoided. For example, instead of saying \"I agree with position X\", you may say something like \"X is\n",
       "a strong position because...\" or \"Smith agrees with position X\". First person language identified in your writing \n",
       "below with <span class=\"firstperson\">red colouring</span>.\n",
       "</p>\n",
       "<p class=\"feedback\"><b>Wordiness - </b>Using too many unnecessary words can result in your writing losing clarity, and \n",
       "result in it being more difficult to read. In your text below, adjectives and adverbs are <span class=\"qualifier\">\n",
       "coloured blue</span>. In sentences where there are many blue words, try changing the sentence so that you say the same\n",
       "thing, but with less words.\n",
       "</p>\n",
       "<p><b>Your text:</b></p>\n",
       "<p>Today <span class=\"qualifier\">most</span> of <span class=\"firstperson\">us</span> accept science. Science of today, <span class=\"qualifier\">especially</span> Darwins Evolutionary Theory teaches <span class=\"firstperson\">us</span> that the <span class=\"qualifier\">human</span> race has developed from animals and that humanbeings <span class=\"qualifier\">basically</span> are animals among <span class=\"qualifier\">other</span> animals. Eventhough <span class=\"firstperson\">we</span> do agree with this aspect of science <span class=\"firstperson\">we</span> tend to consider man as the almighty, <span class=\"qualifier\">powerful</span>, crown of creation with a <span class=\"qualifier\">natural</span> right to treat animals as <span class=\"firstperson\">we</span> please and use them for <span class=\"firstperson\">our</span> <span class=\"qualifier\">own</span> purposes as food, tools and experiment instruments, and <span class=\"firstperson\">I</span> belive this is <span class=\"qualifier\">wrong</span> and in this essay <span class=\"firstperson\">I</span> will explain why <span class=\"firstperson\">we</span> <span class=\"qualifier\">morally</span> have no right to exploit animals. <span class=\"firstperson\">I</span> am <span class=\"qualifier\">also</span> going to show how <span class=\"qualifier\">meaningless</span> <span class=\"qualifier\">many</span> of the experiments made on animals are.</p><p>To begin with <span class=\"firstperson\">I</span> would like to say that the line <span class=\"firstperson\">we</span> draw today in order to distinguish <span class=\"firstperson\">ourselves</span> from animals is <span class=\"qualifier\">strictly</span> <span class=\"qualifier\">arbitrary</span>, <span class=\"qualifier\">illogical</span> and <span class=\"qualifier\">selfish</span> and there isn't a quality and that includes all humanity that empowers <span class=\"firstperson\">us</span> a <span class=\"qualifier\">narural</span> position as top of the food chain and superiour to animals. <span class=\"qualifier\">Most</span> humanbeings have <span class=\"qualifier\">unique</span> capacities <span class=\"qualifier\">though</span>, <span class=\"qualifier\">such</span> as language and <span class=\"qualifier\">higher</span> <span class=\"qualifier\">mental</span> abilities than animals but it's <span class=\"qualifier\">important</span> to emphasize that these abilities don't include all humanity, for example they don't include people with an <span class=\"qualifier\">intellectual</span> disability, <span class=\"qualifier\">psychiatric</span> disability or newborns (Carruthers, 1992).</p><p>The concept 'animals' is <span class=\"qualifier\">very</span> <span class=\"qualifier\">wide</span> and include a variety of <span class=\"qualifier\">different</span> creatures from chimpanzees to oysters. <span class=\"firstperson\">We</span> are <span class=\"qualifier\">often</span> <span class=\"qualifier\">very</span> <span class=\"qualifier\">conscious</span> about making a distinction between humans and chimpanzees but <span class=\"qualifier\">scientifically</span> it's proved that humans are <span class=\"qualifier\">more</span> <span class=\"qualifier\">psycologically</span> related to chimpanzees than chimpanzees are to oysters. <span class=\"qualifier\">Thus</span>, <span class=\"qualifier\">personally</span> <span class=\"firstperson\">I</span> think it would be <span class=\"qualifier\">more</span> <span class=\"qualifier\">logical</span> to draw the line between creatures that have consciousness and those who haven't. The animals with consciousness have feelings and goals for their existence, they have emotions and can feel pain and joy and know if a thing goes <span class=\"qualifier\">good</span> or <span class=\"qualifier\">bad</span>. All these animals should have the <span class=\"qualifier\">same</span> right as humans to exist for their <span class=\"qualifier\">own</span> sake as individuals and <span class=\"qualifier\">not</span> being valued <span class=\"qualifier\">just</span> for how <span class=\"qualifier\">useful</span> they are to humans, for example, <span class=\"qualifier\">just</span> as <span class=\"firstperson\">we</span> wouldn't do experiments on people with <span class=\"qualifier\">intelectual</span> disabilities <span class=\"firstperson\">we</span> shouldnt do it to animals since <span class=\"qualifier\">intelectual</span> abilities seem to be the things <span class=\"firstperson\">we</span> base the world hierarcy upon.</p>"
      ],
      "text/plain": [
       "<IPython.core.display.HTML object>"
      ]
     },
     "metadata": {},
     "output_type": "display_data"
    }
   ],
   "source": [
    "import re\n",
    "\n",
    "def markupTerms(text,terms,classname):\n",
    "    for term in terms:\n",
    "        s = {}\n",
    "        s[0] = term\n",
    "        s[1] = '<span class=\"'+classname+'\">'+term+'</span>'\n",
    "        text = re.sub(r\"\\b%s\\b\" % s[0] , s[1], text)\n",
    "    return text\n",
    "\n",
    "def markupFirstPerson(text):\n",
    "    return markupTerms(text,personal,\"firstperson\")\n",
    "\n",
    "def markupQualifiers(text):\n",
    "    return markupTerms(text,qualifier,\"qualifier\")\n",
    "\n",
    "def wrapPara(text):\n",
    "    return '<p>'+text+'</p>'\n",
    "    \n",
    "comment = \"\"\"\n",
    "<h4>Feedback</h4>\n",
    "<p class=\"feedback\"><b>Third person language - </b>This task requires that you write from a third person point of view\n",
    "which means that you should avoid referring to yourself. You have used a number of first person pronouns in your writing,\n",
    "and these should be avoided. For example, instead of saying \"I agree with position X\", you may say something like \"X is\n",
    "a strong position because...\" or \"Smith agrees with position X\". First person language identified in your writing \n",
    "below with <span class=\"firstperson\">red colouring</span>.\n",
    "</p>\n",
    "<p class=\"feedback\"><b>Wordiness - </b>Using too many unnecessary words can result in your writing losing clarity, and \n",
    "result in it being more difficult to read. In your text below, adjectives and adverbs are <span class=\"qualifier\">\n",
    "coloured blue</span>. In sentences where there are many blue words, try changing the sentence so that you say the same\n",
    "thing, but with less words.\n",
    "</p>\n",
    "<p><b>Your text:</b></p>\n",
    "\"\"\"\n",
    "\n",
    "markedup = map(wrapPara,map(markupQualifiers,map(markupFirstPerson,doc)))\n",
    "html = HTML(comment + ''.join(markedup))\n",
    "\n",
    "css = HTML(\"\"\"\n",
    "<style>\n",
    ".feedback {\n",
    "    color: darkslateblue;\n",
    "}\n",
    ".firstperson {\n",
    "    color: red;\n",
    "}\n",
    ".qualifier {\n",
    "    color: blue;\n",
    "}\n",
    "</style>\n",
    "\n",
    "\"\"\")\n",
    "\n",
    "display(css,html)"
   ]
  },
  {
   "cell_type": "markdown",
   "metadata": {},
   "source": [
    "> ** DISCUSSION **\n",
    ">\n",
    ">  - Do you see any problem with this feedback? \n",
    ">  - Do the text analytics highlight everything that needs changing?\n"
   ]
  },
  {
   "attachments": {},
   "cell_type": "markdown",
   "metadata": {},
   "source": [
    "---\n",
    "\n",
    "### Hypothesis 5a) - feedback on rhetorical moves\n",
    "\n",
    "In this section, we will generate writing feedback based on rhetorical moves in the text. We'll make use of `rhetorical moves` identified by TAP using the Athanor server and show identified moves for reflection as student feedback. \n",
    "\n",
    "#### Rhetorical Moves:\n",
    "\n",
    "Rhetorical move is “a discoursal or rhetorical unit that performs a coherent communicative function in a written or spoken discourse” (Swales, 2004). Rhetorical moves identified by Athanor and example sentences are shown below:\n",
    "\n",
    "<img src=\"AWAexplanations.png\" style=\"width: 60%;\"/>\n",
    "\n",
    "Athanor identifies these rhetorical moves using NLP rules of constituent patterns, instantiated by expressions in sentences, which are pairwise linked by syntactic dependencies. For example, sample linguistic patterns that constitute a contrast move is as follows:\n",
    "\n",
    "<img src=\"Contrastpatterns.png\" style=\"width: 60%;\"/>\n",
    "\n",
    "We hypothesize that good academic writing contains these moves to guide the reader with the flow of the writing."
   ]
  },
  {
   "cell_type": "code",
   "execution_count": 26,
   "metadata": {
    "scrolled": true
   },
   "outputs": [
    {
     "data": {
      "text/html": [
       "\n",
       "<style>\n",
       ".feedback {\n",
       "    color: darkslateblue;\n",
       "}\n",
       ".tagbtn {\n",
       "    background-color: Gray;\n",
       "    border-radius: 12px;\n",
       "    font-size: 12px;\n",
       "    color: white;\n",
       "}\n",
       ".moveformat {\n",
       "    background-color: yellow;\n",
       "}\n",
       "</style>\n",
       "\n"
      ],
      "text/plain": [
       "<IPython.core.display.HTML object>"
      ]
     },
     "metadata": {},
     "output_type": "display_data"
    },
    {
     "data": {
      "text/html": [
       "\n",
       "<h4>Feedback</h4>\n",
       "<p class=\"feedback\"><b>Rhetorical moves - </b> When you write, you can guide the reader with the flow of your text using rhetorical moves. The rhetorical moves in your sentences identified using linguistic patterns are highlighted \n",
       "in yellow for your reflection. </p>\n",
       "\n",
       "<p><b>Your text:</b></p>\n",
       "<p>Today most of us accept science. Science of today, especially Darwins Evolutionary Theory teaches us that the human race has developed from animals and that humanbeings basically are animals among other animals. <span class=\"moveformat\"><button class=\"tagbtn\">contrast, vis, contribution</button>Eventhough we do agree with this aspect of science we tend to consider man as the almighty, powerful, crown of creation with a natural right to treat animals as we please and use them for our own purposes as food, tools and experiment instruments, and I belive this is wrong and in this essay I will explain why we morally have no right to exploit animals.</span> <span class=\"moveformat\"><button class=\"tagbtn\">contribution</button>I am also going to show how meaningless many of the experiments made on animals are.</span> <p>To begin with I would like to say that the line we draw today in order to distinguish ourselves from animals is strictly arbitrary, illogical and selfish and there isn't a quality and that includes all humanity that empowers us a narural position as top of the food chain and superiour to animals. Most humanbeings have unique capacities though, such as language and higher mental abilities than animals but it's important to emphasize that these abilities don't include all humanity, for example they don't include people with an intellectual disability, psychiatric disability or newborns (Carruthers, 1992). <p>The concept 'animals' is very wide and include a variety of different creatures from chimpanzees to oysters. We are often very conscious about making a distinction between humans and chimpanzees but scientifically it's proved that humans are more psycologically related to chimpanzees than chimpanzees are to oysters. Thus, personally I think it would be more logical to draw the line between creatures that have consciousness and those who haven't. The animals with consciousness have feelings and goals for their existence, they have emotions and can feel pain and joy and know if a thing goes good or bad. All these animals should have the same right as humans to exist for their own sake as individuals and not being valued just for how useful they are to humans, for example, just as we wouldn't do experiments on people with intelectual disabilities we shouldnt do it to animals since intelectual abilities seem to be the things we base the world hierarcy upon.</p>"
      ],
      "text/plain": [
       "<IPython.core.display.HTML object>"
      ]
     },
     "metadata": {},
     "output_type": "display_data"
    }
   ],
   "source": [
    "# TAP can return the sentences from the text...\n",
    "\n",
    "#Function to identify rhetorical moves using TAP and return those sentences containing moves\n",
    "def findMoves(rawtext):\n",
    "    movesQuery = \"query RhetoricalMoves($input: String!){  moves(text:$input,grammar:\\\"analytic\\\") { analytics }}\"\n",
    "    jsonData = getJsonFromTAP(movesQuery,rawtext,completeUrl)\n",
    "    moves = jsonData.get('data').get('moves').get('analytics')\n",
    "    def moveSentsIdx(moves):\n",
    "        return [i+1 for i,x in enumerate(moves) if x != []]\n",
    "    moveSentences = moveSentsIdx(moves)\n",
    "    return(moveSentences, moves)\n",
    "\n",
    "\n",
    "#A function to wrap text in a span tag with 'moveformat' class for html display\n",
    "def moveTag(kv):\n",
    "    idx = kv[0]+1\n",
    "    text = kv[1]\n",
    "    (moveSentences, moves) = findMoves(text) #Get moves in the text\n",
    "    moveTag = ', '.join(moves[0])\n",
    "    if not moveSentences: #no rhetorical move returned/ empty list\n",
    "        if idx in paraSentences:\n",
    "            return '<p>'+text\n",
    "        else:\n",
    "            return text\n",
    "    else:\n",
    "        if idx in paraSentences:\n",
    "            return '<span class=\"moveformat\">'+ '<button class=\"tagbtn\">'+moveTag+'</button><p>'+text+'</p></span>'\n",
    "        else:\n",
    "            return '<span class=\"moveformat\">'+ '<button class=\"tagbtn\">'+moveTag+'</button>'+text+'</span>'\n",
    "\n",
    "        \n",
    "def markupMoveSentences(para):\n",
    "    #Get all sentences from the given text\n",
    "    sentencesQuery = \"query Sentences($input: String!){ annotations(text: $input) { analytics {idx, original, tokens { term }} }}\"\n",
    "    jsonData = getJsonFromTAP(sentencesQuery,para,completeUrl)\n",
    "    sentencesJson = jsonData.get('data').get('annotations').get('analytics')\n",
    "    def getSentence(json):\n",
    "        return (json.get('idx'),json.get('original'))\n",
    "    sentences = map(getSentence,sentencesJson) #get index and original sentences from text\n",
    "    pText =  ' '.join(map(moveTag,sentences))\n",
    "    return '<p>'+pText+'</p>'\n",
    "\n",
    "comment = \"\"\"\n",
    "<h4>Feedback</h4>\n",
    "<p class=\"feedback\"><b>Rhetorical moves - </b> When you write, you can guide the reader with the flow of your text using rhetorical moves. The rhetorical moves in your sentences identified using linguistic patterns are highlighted \n",
    "in yellow for your reflection. </p>\n",
    "\n",
    "<p><b>Your text:</b></p>\n",
    "\"\"\"\n",
    "html = HTML(comment + ' '.join(map(markupMoveSentences,docnew)))\n",
    "\n",
    "css = HTML(\"\"\"\n",
    "<style>\n",
    ".feedback {\n",
    "    color: darkslateblue;\n",
    "}\n",
    ".tagbtn {\n",
    "    background-color: Gray;\n",
    "    border-radius: 12px;\n",
    "    font-size: 12px;\n",
    "    color: white;\n",
    "}\n",
    ".moveformat {\n",
    "    background-color: yellow;\n",
    "}\n",
    "</style>\n",
    "\n",
    "\"\"\")\n",
    "\n",
    "display(css,html)"
   ]
  },
  {
   "cell_type": "markdown",
   "metadata": {},
   "source": [
    "> ** DISCUSSION **\n",
    ">\n",
    ">  - Do you see ways to improve this feedback? \n",
    ">  - Does text analytics pick the right moves all the time?\n"
   ]
  },
  {
   "cell_type": "markdown",
   "metadata": {},
   "source": [
    "### Hypothesis 5b) - more specific feedback on rhetorical moves\n",
    "We can modify the feedback as required based on the analytical move tags returned by TAP. This is where we can re-design the UI for providing more user-friendly output. In the following section, we'll only display one tag (first occuring) for each sentence, highlight summary moves/contributions in green, and suggest important moves that are missing in the text. "
   ]
  },
  {
   "cell_type": "code",
   "execution_count": 27,
   "metadata": {},
   "outputs": [
    {
     "data": {
      "text/html": [
       "\n",
       "<style>\n",
       ".feedback {\n",
       "    color: darkslateblue;\n",
       "}\n",
       ".tagbtn {\n",
       "    background-color: Gray;\n",
       "    border-radius: 12px;\n",
       "    font-size: 12px;\n",
       "    color: white;\n",
       "}\n",
       "\n",
       ".moveformat {\n",
       "    background-color: yellow;\n",
       "}\n",
       "\n",
       ".moveformatsumm {\n",
       "    background-color: lightgreen;\n",
       "}\n",
       "</style>\n",
       "\n"
      ],
      "text/plain": [
       "<IPython.core.display.HTML object>"
      ]
     },
     "metadata": {},
     "output_type": "display_data"
    },
    {
     "data": {
      "text/html": [
       "\n",
       "<h4>General Feedback</h4>\n",
       "<p class=\"feedback\"><b>Rhetorical moves - </b> When you write, you can guide the reader with the flow of your text using rhetorical moves. The rhetorical moves in your sentences identified using linguistic patterns are highlighted \n",
       "in green (summary move) and in yellow (all other important moves) for your reflection. </p>\n",
       "<p><b>Your text:</b></p>\n",
       "<p>Today most of us accept science. Science of today, especially Darwins Evolutionary Theory teaches us that the human race has developed from animals and that humanbeings basically are animals among other animals. <span class=\"moveformat\"><button class=\"tagbtn\">contrast</button>Eventhough we do agree with this aspect of science we tend to consider man as the almighty, powerful, crown of creation with a natural right to treat animals as we please and use them for our own purposes as food, tools and experiment instruments, and I belive this is wrong and in this essay I will explain why we morally have no right to exploit animals.</span> <span class=\"moveformatsumm\"><button class=\"tagbtn\">contribution</button>I am also going to show how meaningless many of the experiments made on animals are.</span> <p>To begin with I would like to say that the line we draw today in order to distinguish ourselves from animals is strictly arbitrary, illogical and selfish and there isn't a quality and that includes all humanity that empowers us a narural position as top of the food chain and superiour to animals. Most humanbeings have unique capacities though, such as language and higher mental abilities than animals but it's important to emphasize that these abilities don't include all humanity, for example they don't include people with an intellectual disability, psychiatric disability or newborns (Carruthers, 1992). <p>The concept 'animals' is very wide and include a variety of different creatures from chimpanzees to oysters. We are often very conscious about making a distinction between humans and chimpanzees but scientifically it's proved that humans are more psycologically related to chimpanzees than chimpanzees are to oysters. Thus, personally I think it would be more logical to draw the line between creatures that have consciousness and those who haven't. The animals with consciousness have feelings and goals for their existence, they have emotions and can feel pain and joy and know if a thing goes good or bad. All these animals should have the same right as humans to exist for their own sake as individuals and not being valued just for how useful they are to humans, for example, just as we wouldn't do experiments on people with intelectual disabilities we shouldnt do it to animals since intelectual abilities seem to be the things we base the world hierarcy upon.</p>"
      ],
      "text/plain": [
       "<IPython.core.display.HTML object>"
      ]
     },
     "metadata": {},
     "output_type": "display_data"
    },
    {
     "data": {
      "text/html": [
       "\n",
       "<style>\n",
       ".feedback {\n",
       "    color: darkslateblue;\n",
       "}\n",
       ".tagbtn {\n",
       "    background-color: Gray;\n",
       "    border-radius: 12px;\n",
       "    font-size: 12px;\n",
       "    color: white;\n",
       "}\n",
       "\n",
       ".moveformat {\n",
       "    background-color: yellow;\n",
       "}\n",
       "\n",
       ".moveformatsumm {\n",
       "    background-color: lightgreen;\n",
       "}\n",
       "</style>\n",
       "\n"
      ],
      "text/plain": [
       "<IPython.core.display.HTML object>"
      ]
     },
     "metadata": {},
     "output_type": "display_data"
    },
    {
     "data": {
      "text/html": [
       "<h4>Specific Feedback</h4>\n",
       "    <p class=\"missing\">It looks like you're missing a background move in your text, which explains previous work done on the topic. \n",
       "    Try to add linguistic cues to make this move clearer in your writing.\n",
       "    Examples: \"The past decade has seen ....\"\n",
       "\"Recent studies indicate ...\"\n",
       "\"... is universally accepted ...\"</p>"
      ],
      "text/plain": [
       "<IPython.core.display.HTML object>"
      ]
     },
     "metadata": {},
     "output_type": "display_data"
    }
   ],
   "source": [
    "global flag, checkMove;\n",
    "flag = False;\n",
    "checkMove = 'old';\n",
    "\n",
    "#A function to wrap text in a span tag with 'moveformat' class for html display\n",
    "def moveTag(kv):\n",
    "    idx = kv[0]+1\n",
    "    text = kv[1]\n",
    "    (moveSentences, moves) = findMoves(text)\n",
    "    moves = moves[0]\n",
    "    global checkMove;\n",
    "    \n",
    "    if(checkMove in moves):\n",
    "        global flag;\n",
    "        flag = True;\n",
    "        \n",
    "    if not moveSentences:\n",
    "        if idx in paraSentences:\n",
    "            return '<p>'+text\n",
    "        else:\n",
    "            return text\n",
    "    else: \n",
    "        if(moves[0]==\"contribution\"):\n",
    "            if idx in paraSentences:\n",
    "                return '<span class=\"moveformatsumm\">'+ '<button class=\"tagbtn\">'+moves[0]+'</button><p>'+text+'</p></span>'\n",
    "            else:\n",
    "                return '<span class=\"moveformatsumm\">'+ '<button class=\"tagbtn\">'+moves[0]+'</button>'+text+'</span>'\n",
    "        else:\n",
    "            if idx in paraSentences:\n",
    "                return '<span class=\"moveformat\">'+ '<button class=\"tagbtn\">'+moves[0]+'</button><p>'+text+'/<p></span>'\n",
    "            else:\n",
    "                return '<span class=\"moveformat\">'+ '<button class=\"tagbtn\">'+moves[0]+'</button>'+text+'</span>'\n",
    "\n",
    "    \n",
    "def markupMoveSentences(para):\n",
    "    #Get all sentences from the given text\n",
    "    sentencesQuery = \"query Sentences($input: String!){ annotations(text: $input) { analytics {idx, original, tokens { term }} }}\"\n",
    "    jsonData = getJsonFromTAP(sentencesQuery,para,completeUrl)\n",
    "    sentencesJson = jsonData.get('data').get('annotations').get('analytics')\n",
    "    def getSentence(json):\n",
    "        return (json.get('idx'),json.get('original'))\n",
    "    sentences = map(getSentence,sentencesJson) #get index and original sentences from text\n",
    "    pText =  ' '.join(map(moveTag,sentences))\n",
    "    return '<p>'+pText+'</p>'\n",
    "\n",
    "\n",
    "comment1 = \"\"\"\n",
    "<h4>General Feedback</h4>\n",
    "<p class=\"feedback\"><b>Rhetorical moves - </b> When you write, you can guide the reader with the flow of your text using rhetorical moves. The rhetorical moves in your sentences identified using linguistic patterns are highlighted \n",
    "in green (summary move) and in yellow (all other important moves) for your reflection. </p>\"\"\"\n",
    "\n",
    "comment2 = \"\"\"\n",
    "<p><b>Your text:</b></p>\n",
    "\"\"\"\n",
    "\n",
    "html = HTML(comment1 + comment2+ ' '.join(map(markupMoveSentences,docnew)))\n",
    "\n",
    "css = HTML(\"\"\"\n",
    "<style>\n",
    ".feedback {\n",
    "    color: darkslateblue;\n",
    "}\n",
    ".tagbtn {\n",
    "    background-color: Gray;\n",
    "    border-radius: 12px;\n",
    "    font-size: 12px;\n",
    "    color: white;\n",
    "}\n",
    "\n",
    ".moveformat {\n",
    "    background-color: yellow;\n",
    "}\n",
    "\n",
    ".moveformatsumm {\n",
    "    background-color: lightgreen;\n",
    "}\n",
    "</style>\n",
    "\n",
    "\"\"\")\n",
    "\n",
    "display(css,html)\n",
    "\n",
    "if(flag):\n",
    "    comment3 = \"\"\"<h4>Specific Feedback</h4>\n",
    "    <p class=\"feedback\">Your essay seems to satisfy the basic requirements of the task. Check if you want to highlight specific moves in your text further! </p>\"\"\";\n",
    "else:\n",
    "    comment3 = \"\"\"<h4>Specific Feedback</h4>\n",
    "    <p class=\"missing\">It looks like you're missing a background move in your text, which explains previous work done on the topic. \n",
    "    Try to add linguistic cues to make this move clearer in your writing.\n",
    "    Examples: \"The past decade has seen ....\"\n",
    "\"Recent studies indicate ...\"\n",
    "\"... is universally accepted ...\"</p>\"\"\";\n",
    "\n",
    "html = HTML(comment3)\n",
    "display(css,html)"
   ]
  },
  {
   "cell_type": "markdown",
   "metadata": {},
   "source": [
    "> ** DISCUSSION **\n",
    ">\n",
    ">  - Do you see ways to improve this feedback?"
   ]
  },
  {
   "cell_type": "markdown",
   "metadata": {},
   "source": [
    "## Where next?\n",
    "\n",
    "To install your own Jupyter notebook: http://jupyter.org/install\n",
    "\n",
    "TAP: https://github.com/heta-io/tap\n",
    "\n",
    "A repository with YOUR notebooks?\n",
    "\n",
    "Find more about the Connected Intelligence Centre (CIC)'s work at: https://utscic.edu.au/ \n"
   ]
  }
 ],
 "metadata": {
  "kernelspec": {
   "display_name": "Python 3",
   "language": "python",
   "name": "python3"
  },
  "language_info": {
   "codemirror_mode": {
    "name": "ipython",
    "version": 3
   },
   "file_extension": ".py",
   "mimetype": "text/x-python",
   "name": "python",
   "nbconvert_exporter": "python",
   "pygments_lexer": "ipython3",
   "version": "3.5.2"
  },
  "widgets": {
   "state": {
    "45993015ea854d58907dd1ded7b34222": {
     "views": [
      {
       "cell_index": 15
      }
     ]
    }
   },
   "version": "1.2.0"
  }
 },
 "nbformat": 4,
 "nbformat_minor": 1
}
